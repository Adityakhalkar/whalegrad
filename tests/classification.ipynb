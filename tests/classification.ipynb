{
 "cells": [
  {
   "cell_type": "code",
   "execution_count": 1,
   "metadata": {},
   "outputs": [],
   "source": [
    "# import libraries\n",
    "\n",
    "from whalegrad.nn.layers.activations import ReLU, sigmoid, tanh\n",
    "from whalegrad.nn.layers.linear import Linear\n",
    "from whalegrad.nn.loss import BinaryCrossEntropy\n",
    "from whalegrad.nn.layers.base import Model\n",
    "from whalegrad.nn.optim import SGD, Adam\n",
    "from whalegrad.engine.whalor import Whalor\n",
    "from whalegrad.nn.layers.containers import Sequential"
   ]
  },
  {
   "cell_type": "code",
   "execution_count": 2,
   "metadata": {},
   "outputs": [],
   "source": [
    "from whalegrad.nn.layers.linear import Linear\n",
    "Linear = Linear(2,1)"
   ]
  },
  {
   "cell_type": "code",
   "execution_count": 3,
   "metadata": {},
   "outputs": [],
   "source": [
    "import matplotlib.pyplot as plt"
   ]
  },
  {
   "cell_type": "code",
   "execution_count": 4,
   "metadata": {},
   "outputs": [],
   "source": [
    "from sklearn.datasets import make_circles\n",
    "from sklearn.model_selection import train_test_split\n",
    "from sklearn.metrics import classification_report, accuracy_score"
   ]
  },
  {
   "cell_type": "code",
   "execution_count": 5,
   "metadata": {},
   "outputs": [],
   "source": [
    "# load data\n",
    "X, y = make_circles(n_samples=1000, noise=0.05, random_state=100)\n",
    "X_train_orig, X_test_orig, y_train_orig, y_test_orig = train_test_split(X,y)"
   ]
  },
  {
   "cell_type": "code",
   "execution_count": 6,
   "metadata": {},
   "outputs": [],
   "source": [
    "\n",
    "num_train, num_test = 750, 250 # number of train and test examples\n",
    "num_iter = 50 # number of iterations"
   ]
  },
  {
   "cell_type": "code",
   "execution_count": 7,
   "metadata": {},
   "outputs": [],
   "source": [
    "X_train, X_test = Whalor(X_train_orig[:num_train,:]), Whalor(X_test_orig[:num_test,:])\n",
    "y_train, y_test = Whalor(y_train_orig[:num_train].reshape(num_train,1)), Whalor(y_test_orig[:num_test].reshape(num_test,1))"
   ]
  },
  {
   "cell_type": "code",
   "execution_count": 8,
   "metadata": {},
   "outputs": [],
   "source": [
    "class NN(Model):\n",
    "  def __init__(self):\n",
    "    \n",
    "    \n",
    "    super(NN, self).__init__()\n",
    "    \n",
    "    self.layer1 = Linear(2, 100)\n",
    "    self.ReLU = ReLU()  \n",
    "    self.layer2 = Linear(100, 1)\n",
    "    self.layer3 = sigmoid()\n",
    "    \n",
    "  \n",
    "  def forward(self, inputs):\n",
    "    return self.layer3(self.layer2(self.layer1(inputs)))\n",
    "\n",
    "# class NN(Model):\n",
    "#   def __init__(self):\n",
    "#     self.stack = \n",
    "#       self.layer1= se;lfLinear(2,100),\n",
    "#       ReLU(),\n",
    "#       Linear(100,1),\n",
    "#       sigmoid()\n",
    "    \n",
    "  \n",
    "#   def forward(self, inputs):\n",
    "#     return self.stack(inputs)"
   ]
  },
  {
   "cell_type": "code",
   "execution_count": 11,
   "metadata": {},
   "outputs": [
    {
     "ename": "TypeError",
     "evalue": "Module.__call__() takes 2 positional arguments but 3 were given",
     "output_type": "error",
     "traceback": [
      "\u001b[0;31m---------------------------------------------------------------------------\u001b[0m",
      "\u001b[0;31mTypeError\u001b[0m                                 Traceback (most recent call last)",
      "Cell \u001b[0;32mIn[11], line 1\u001b[0m\n\u001b[0;32m----> 1\u001b[0m model \u001b[38;5;241m=\u001b[39m \u001b[43mNN\u001b[49m\u001b[43m(\u001b[49m\u001b[43m)\u001b[49m\n\u001b[1;32m      2\u001b[0m loss_fn \u001b[38;5;241m=\u001b[39m BinaryCrossEntropy\n\u001b[1;32m      3\u001b[0m optim \u001b[38;5;241m=\u001b[39m Adam(model\u001b[38;5;241m.\u001b[39mparameters(), \u001b[38;5;241m0.05\u001b[39m)\n",
      "Cell \u001b[0;32mIn[8], line 7\u001b[0m, in \u001b[0;36mNN.__init__\u001b[0;34m(self)\u001b[0m\n\u001b[1;32m      2\u001b[0m \u001b[38;5;28;01mdef\u001b[39;00m \u001b[38;5;21m__init__\u001b[39m(\u001b[38;5;28mself\u001b[39m):\n\u001b[1;32m      5\u001b[0m   \u001b[38;5;28msuper\u001b[39m(NN, \u001b[38;5;28mself\u001b[39m)\u001b[38;5;241m.\u001b[39m\u001b[38;5;21m__init__\u001b[39m()\n\u001b[0;32m----> 7\u001b[0m   \u001b[38;5;28mself\u001b[39m\u001b[38;5;241m.\u001b[39mlayer1 \u001b[38;5;241m=\u001b[39m \u001b[43mLinear\u001b[49m\u001b[43m(\u001b[49m\u001b[38;5;241;43m2\u001b[39;49m\u001b[43m,\u001b[49m\u001b[43m \u001b[49m\u001b[38;5;241;43m100\u001b[39;49m\u001b[43m)\u001b[49m\n\u001b[1;32m      8\u001b[0m   \u001b[38;5;28mself\u001b[39m\u001b[38;5;241m.\u001b[39mReLU \u001b[38;5;241m=\u001b[39m ReLU()  \n\u001b[1;32m      9\u001b[0m   \u001b[38;5;28mself\u001b[39m\u001b[38;5;241m.\u001b[39mlayer2 \u001b[38;5;241m=\u001b[39m Linear(\u001b[38;5;241m100\u001b[39m, \u001b[38;5;241m1\u001b[39m)\n",
      "\u001b[0;31mTypeError\u001b[0m: Module.__call__() takes 2 positional arguments but 3 were given"
     ]
    }
   ],
   "source": [
    "model = NN()\n",
    "loss_fn = BinaryCrossEntropy\n",
    "optim = Adam(model.parameters(), 0.05)"
   ]
  },
  {
   "cell_type": "code",
   "execution_count": null,
   "metadata": {},
   "outputs": [],
   "source": []
  }
 ],
 "metadata": {
  "kernelspec": {
   "display_name": "venv",
   "language": "python",
   "name": "python3"
  },
  "language_info": {
   "codemirror_mode": {
    "name": "ipython",
    "version": 3
   },
   "file_extension": ".py",
   "mimetype": "text/x-python",
   "name": "python",
   "nbconvert_exporter": "python",
   "pygments_lexer": "ipython3",
   "version": "3.12.0"
  }
 },
 "nbformat": 4,
 "nbformat_minor": 2
}
